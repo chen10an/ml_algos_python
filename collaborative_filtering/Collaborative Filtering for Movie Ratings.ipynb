{
 "cells": [
  {
   "cell_type": "code",
   "execution_count": 1,
   "metadata": {},
   "outputs": [],
   "source": [
    "# imports\n",
    "\n",
    "# libraries\n",
    "import numpy as np\n",
    "from scipy import io\n",
    "from scipy.optimize import fmin_cg\n",
    "\n",
    "# files\n",
    "import utils"
   ]
  },
  {
   "cell_type": "markdown",
   "metadata": {},
   "source": [
    "## 1. Take a look at the dataset"
   ]
  },
  {
   "cell_type": "code",
   "execution_count": 2,
   "metadata": {},
   "outputs": [
    {
     "data": {
      "text/plain": [
       "dict_keys(['__header__', '__version__', '__globals__', 'Y', 'R'])"
      ]
     },
     "execution_count": 2,
     "metadata": {},
     "output_type": "execute_result"
    }
   ],
   "source": [
    "# load movie ratings dataset\n",
    "matDict = io.loadmat('ex8_movies.mat')\n",
    "\n",
    "matDict.keys()"
   ]
  },
  {
   "cell_type": "code",
   "execution_count": 3,
   "metadata": {},
   "outputs": [
    {
     "data": {
      "text/plain": [
       "((1682, 943), (1682, 943))"
      ]
     },
     "execution_count": 3,
     "metadata": {},
     "output_type": "execute_result"
    }
   ],
   "source": [
    "# Y: 1682x943, contains ratings (1-5) of 1682 movies on 943 users\n",
    "# R: 1682x943, R(i,j) = 1 if and only if user j gave a rating to movie i\n",
    "\n",
    "Y = matDict['Y']\n",
    "R = matDict['R']\n",
    "\n",
    "Y.shape, R.shape"
   ]
  },
  {
   "cell_type": "code",
   "execution_count": 4,
   "metadata": {},
   "outputs": [
    {
     "data": {
      "text/plain": [
       "0.063046693642245313"
      ]
     },
     "execution_count": 4,
     "metadata": {},
     "output_type": "execute_result"
    }
   ],
   "source": [
    "# sparsity: (no. ratings)/(no. possible ratings)\n",
    "np.sum(R)/np.size(R)"
   ]
  },
  {
   "cell_type": "markdown",
   "metadata": {},
   "source": [
    "## 2. Use pre-trained weights to check the implementation of the cost function"
   ]
  },
  {
   "cell_type": "code",
   "execution_count": 5,
   "metadata": {},
   "outputs": [
    {
     "data": {
      "text/plain": [
       "dict_keys(['__header__', '__version__', '__globals__', 'X', 'Theta', 'num_users', 'num_movies', 'num_features'])"
      ]
     },
     "execution_count": 5,
     "metadata": {},
     "output_type": "execute_result"
    }
   ],
   "source": [
    "# load pre-trained weights (X, Theta, num_users, num_movies, num_features)\n",
    "# for checking cost function\n",
    "matDict = io.loadmat('ex8_movieParams.mat')\n",
    "\n",
    "matDict.keys()"
   ]
  },
  {
   "cell_type": "code",
   "execution_count": 6,
   "metadata": {
    "collapsed": true
   },
   "outputs": [],
   "source": [
    "# X: num_movies x num_features, movie features\n",
    "# Theta: num_users x num_features, user features\n",
    "# num_users, num_movies, num_features: scalars\n",
    "\n",
    "X = matDict['X']\n",
    "Theta = matDict['Theta']\n",
    "num_users = matDict['num_users']\n",
    "num_movies = matDict['num_movies']\n",
    "num_features = matDict['num_features']"
   ]
  },
  {
   "cell_type": "code",
   "execution_count": 7,
   "metadata": {},
   "outputs": [],
   "source": [
    "# reduce the data set size so that this runs faster\n",
    "num_users = 4\n",
    "num_movies = 5\n",
    "num_features = 3\n",
    "\n",
    "X = X[0:num_movies, 0:num_features]\n",
    "Theta = Theta[0:num_users, 0:num_features]\n",
    "Y = Y[0:num_movies, 0:num_users]\n",
    "R = R[0:num_movies, 0:num_users]\n",
    "params = np.concatenate((X,Theta))\n",
    "params = np.reshape(params, params.size)"
   ]
  },
  {
   "cell_type": "markdown",
   "metadata": {},
   "source": [
    "### 2.1 Check cost"
   ]
  },
  {
   "cell_type": "code",
   "execution_count": 8,
   "metadata": {},
   "outputs": [
    {
     "data": {
      "text/plain": [
       "22.224603725685672"
      ]
     },
     "execution_count": 8,
     "metadata": {},
     "output_type": "execute_result"
    }
   ],
   "source": [
    "# check cost function's cost without regularization\n",
    "J = utils.costFunc(params, Y, R, num_users, num_movies, num_features, 0)\n",
    "\n",
    "J[0]  # cost should be about 22.22"
   ]
  },
  {
   "cell_type": "code",
   "execution_count": 9,
   "metadata": {},
   "outputs": [
    {
     "data": {
      "text/plain": [
       "31.344056244274213"
      ]
     },
     "execution_count": 9,
     "metadata": {},
     "output_type": "execute_result"
    }
   ],
   "source": [
    "# check cost function's cost with regularization\n",
    "# lambd=1.5\n",
    "J = utils.costFunc(params, Y, R, num_users, num_movies, num_features, 1.5)\n",
    "J[0]  # cost should be about 31.34"
   ]
  },
  {
   "cell_type": "markdown",
   "metadata": {},
   "source": [
    "### 2.2 Check gradient"
   ]
  },
  {
   "cell_type": "code",
   "execution_count": 10,
   "metadata": {},
   "outputs": [
    {
     "name": "stdout",
     "output_type": "stream",
     "text": [
      "[[ -1.5638525   -1.5638525 ]\n",
      " [  0.33423115   0.33423115]\n",
      " [  1.0550018    1.0550018 ]\n",
      " [  2.64924374   2.64924374]\n",
      " [ -0.83173464  -0.83173464]\n",
      " [ -4.9792135   -4.9792135 ]\n",
      " [ -8.90731964  -8.90731964]\n",
      " [ -3.09165216  -3.09165216]\n",
      " [ 11.4471485   11.4471485 ]\n",
      " [ -0.21630701  -0.21630701]\n",
      " [ -0.18860546  -0.18860546]\n",
      " [  1.56076113   1.56076113]\n",
      " [  1.24258394   1.24258394]\n",
      " [ -1.67035246  -1.67035246]\n",
      " [ -7.01206157  -7.01206157]\n",
      " [  1.23356929   1.23356929]\n",
      " [  1.1286928    1.1286928 ]\n",
      " [  2.35758739   2.35758739]\n",
      " [  0.48251309   0.48251309]\n",
      " [  2.33111503   2.33111503]\n",
      " [  9.32006748   9.32006748]\n",
      " [  1.31446895   1.31446895]\n",
      " [ -1.53047295  -1.53047295]\n",
      " [ -7.1829814   -7.1829814 ]\n",
      " [ -1.27656996  -1.27656996]\n",
      " [ -1.15664849  -1.15664849]\n",
      " [ -2.4241663   -2.4241663 ]]\n",
      "The above two columns should be very similar.\n",
      "(Left-Numerical Gradient, Right-Analytical Gradient)\n",
      "\n",
      "\n",
      "If the cost function implementation is correct, then \n",
      "the relative difference will be small (less than 1e-9). \n",
      "\n",
      "Relative Difference: 1.4445919595851398e-12\n",
      "\n"
     ]
    }
   ],
   "source": [
    "# check cost function's gradient without regularization\n",
    "utils.checkCostFunction()"
   ]
  },
  {
   "cell_type": "code",
   "execution_count": 11,
   "metadata": {},
   "outputs": [
    {
     "name": "stdout",
     "output_type": "stream",
     "text": [
      "[[ -1.46960632  -1.46960632]\n",
      " [  2.44468863   2.44468863]\n",
      " [  8.08429971   8.08429971]\n",
      " [  3.05704021   3.05704021]\n",
      " [  5.16908099   5.16908099]\n",
      " [ -9.02433266  -9.02433266]\n",
      " [  2.07765463   2.07765463]\n",
      " [ -0.10045448  -0.10045448]\n",
      " [ -2.39082951  -2.39082951]\n",
      " [  3.14239509   3.14239509]\n",
      " [  3.83539926   3.83539926]\n",
      " [  1.45818309   1.45818309]\n",
      " [  0.43873725   0.43873725]\n",
      " [  2.22756227   2.22756227]\n",
      " [ -1.10909823  -1.10909823]\n",
      " [  6.37909193   6.37909193]\n",
      " [  2.62482604   2.62482604]\n",
      " [-15.5092568  -15.5092568 ]\n",
      " [  4.30988383   4.30988383]\n",
      " [ -0.64570775  -0.64570775]\n",
      " [ -0.198471    -0.198471  ]\n",
      " [ -2.58738193  -2.58738193]\n",
      " [ -2.57459302  -2.57459302]\n",
      " [  0.26782615   0.26782615]\n",
      " [  0.6964374    0.6964374 ]\n",
      " [  3.84689109   3.84689109]\n",
      " [  7.01193678   7.01193678]]\n",
      "The above two columns should be very similar.\n",
      "(Left-Numerical Gradient, Right-Analytical Gradient)\n",
      "\n",
      "\n",
      "If the cost function implementation is correct, then \n",
      "the relative difference will be small (less than 1e-9). \n",
      "\n",
      "Relative Difference: 2.4516205256183986e-12\n",
      "\n"
     ]
    }
   ],
   "source": [
    "# check cost function's gradient with regularization\n",
    "# lambd=1.5\n",
    "utils.checkCostFunction(1.5)"
   ]
  },
  {
   "cell_type": "markdown",
   "metadata": {},
   "source": [
    "## 3. Set ratings for a new user"
   ]
  },
  {
   "cell_type": "code",
   "execution_count": 12,
   "metadata": {},
   "outputs": [
    {
     "data": {
      "text/plain": [
       "1682"
      ]
     },
     "execution_count": 12,
     "metadata": {},
     "output_type": "execute_result"
    }
   ],
   "source": [
    "# get list of movies from text file\n",
    "f = open('movie_ids.txt', 'r', encoding='ISO-8859-1')\n",
    "\n",
    "movieList = []\n",
    "for l in f.readlines():\n",
    "    movie = l.split(' ', 1)[1].split('\\n')[0]\n",
    "    movieList.append(movie)\n",
    "\n",
    "len(movieList)"
   ]
  },
  {
   "cell_type": "code",
   "execution_count": 13,
   "metadata": {},
   "outputs": [
    {
     "data": {
      "text/plain": [
       "1682"
      ]
     },
     "execution_count": 13,
     "metadata": {},
     "output_type": "execute_result"
    }
   ],
   "source": [
    "# initialize new user's ratings\n",
    "ratings = np.zeros(len(movieList), dtype='uint8')\n",
    "len(ratings)"
   ]
  },
  {
   "cell_type": "code",
   "execution_count": 14,
   "metadata": {},
   "outputs": [
    {
     "name": "stdout",
     "output_type": "stream",
     "text": [
      "new user ratings:\n",
      "\n",
      "rated 4 for Toy Story (1995)\n",
      "rated 3 for Twelve Monkeys (1995)\n",
      "rated 5 for Usual Suspects, The (1995)\n",
      "rated 4 for Outbreak (1995)\n",
      "rated 5 for Shawshank Redemption, The (1994)\n",
      "rated 3 for While You Were Sleeping (1995)\n",
      "rated 5 for Forrest Gump (1994)\n",
      "rated 2 for Silence of the Lambs, The (1991)\n",
      "rated 4 for Alien (1979)\n",
      "rated 5 for Die Hard 2 (1990)\n",
      "rated 5 for Sphere (1998)\n"
     ]
    }
   ],
   "source": [
    "# check the file movie_idx.txt for id of each movie in the dataset\n",
    "# for example, Toy Story (1995) has ID 1, so to rate it \"4\", we can set\n",
    "ratings[0] = 4  # index = ID - 1 \n",
    "\n",
    "# more ratings\n",
    "ratings[97] = 2\n",
    "ratings[6] = 3\n",
    "ratings[11]= 5\n",
    "ratings[53] = 4\n",
    "ratings[63]= 5\n",
    "ratings[65]= 3\n",
    "ratings[68] = 5\n",
    "ratings[182] = 4\n",
    "ratings[225] = 5\n",
    "ratings[354]= 5\n",
    "\n",
    "print(\"new user ratings:\\n\")\n",
    "for i in range(len(ratings)):\n",
    "    if ratings[i] > 0:\n",
    "        print(\"rated {} for {}\".format(ratings[i], movieList[i]))"
   ]
  },
  {
   "cell_type": "markdown",
   "metadata": {},
   "source": [
    "## 4. Train the collaborative filtering model"
   ]
  },
  {
   "cell_type": "code",
   "execution_count": 15,
   "metadata": {},
   "outputs": [
    {
     "data": {
      "text/plain": [
       "dict_keys(['__header__', '__version__', '__globals__', 'Y', 'R'])"
      ]
     },
     "execution_count": 15,
     "metadata": {},
     "output_type": "execute_result"
    }
   ],
   "source": [
    "# load the movie ratings dataset again\n",
    "matDict = io.loadmat('ex8_movies.mat')\n",
    "\n",
    "matDict.keys()"
   ]
  },
  {
   "cell_type": "code",
   "execution_count": 16,
   "metadata": {},
   "outputs": [
    {
     "data": {
      "text/plain": [
       "((1682, 943), (1682, 943))"
      ]
     },
     "execution_count": 16,
     "metadata": {},
     "output_type": "execute_result"
    }
   ],
   "source": [
    "# Y: 1682x943, contains ratings (1-5) of 1682 movies on 943 users\n",
    "# R: 1682x943, R(i,j) = 1 if and only if user j gave a rating to movie i\n",
    "\n",
    "Y = matDict['Y']\n",
    "R = matDict['R']\n",
    "\n",
    "Y.shape, R.shape"
   ]
  },
  {
   "cell_type": "code",
   "execution_count": 17,
   "metadata": {},
   "outputs": [
    {
     "data": {
      "text/plain": [
       "(dtype('uint8'), dtype('uint8'), dtype('uint8'))"
      ]
     },
     "execution_count": 17,
     "metadata": {},
     "output_type": "execute_result"
    }
   ],
   "source": [
    "# make sure that the dtypes match\n",
    "Y.dtype, R.dtype, ratings.dtype"
   ]
  },
  {
   "cell_type": "code",
   "execution_count": 18,
   "metadata": {
    "collapsed": true
   },
   "outputs": [],
   "source": [
    "# reshape ratings into a column vector\n",
    "ratings = np.reshape(ratings, (ratings.size,1))"
   ]
  },
  {
   "cell_type": "code",
   "execution_count": 19,
   "metadata": {},
   "outputs": [
    {
     "data": {
      "text/plain": [
       "((1682, 944), (1682, 944))"
      ]
     },
     "execution_count": 19,
     "metadata": {},
     "output_type": "execute_result"
    }
   ],
   "source": [
    "# add the new user's ratings to Y and R\n",
    "Y = np.concatenate((ratings,Y), axis=1)\n",
    "R = np.concatenate(((ratings != 0).astype('uint8'), R), axis=1)\n",
    "\n",
    "Y.shape, R.shape  # both should have +1 on the 2nd axis"
   ]
  },
  {
   "cell_type": "code",
   "execution_count": 20,
   "metadata": {
    "collapsed": true
   },
   "outputs": [],
   "source": [
    "# normalize ratings\n",
    "Ynorm, Ymean = utils.normalizeRatings(Y,R)"
   ]
  },
  {
   "cell_type": "code",
   "execution_count": 21,
   "metadata": {
    "collapsed": true
   },
   "outputs": [],
   "source": [
    "# useful values\n",
    "num_users = Y.shape[1]\n",
    "num_movies = Y.shape[0]\n",
    "num_features = 10\n",
    "\n",
    "# set initial parameters (Theta, X)\n",
    "X = np.random.randn(num_movies, num_features)\n",
    "Theta = np.random.randn(num_users, num_features)\n",
    "initial_parameters = np.concatenate((X,Theta))\n",
    "initial_parameters = np.reshape(initial_parameters, initial_parameters.size)\n",
    "\n",
    "# set regularization\n",
    "lambd = 10\n",
    "\n",
    "# set functions for the cost and the gradient\n",
    "f = lambda t: utils.costFunc(t, Ynorm, R, num_users, num_movies, num_features, lambd)[0]\n",
    "fprime = lambda t: utils.costFunc(t, Ynorm, R, num_users, num_movies, num_features, lambd)[1]"
   ]
  },
  {
   "cell_type": "code",
   "execution_count": 22,
   "metadata": {},
   "outputs": [
    {
     "name": "stdout",
     "output_type": "stream",
     "text": [
      "Warning: Maximum number of iterations has been exceeded.\n",
      "         Current function value: 38977.352339\n",
      "         Iterations: 100\n",
      "         Function evaluations: 149\n",
      "         Gradient evaluations: 149\n"
     ]
    }
   ],
   "source": [
    "# minimize gradient with fmincg\n",
    "theta = fmin_cg(f=f, x0=initial_parameters, fprime=fprime, maxiter=100)"
   ]
  },
  {
   "cell_type": "code",
   "execution_count": 23,
   "metadata": {},
   "outputs": [
    {
     "data": {
      "text/plain": [
       "((1682, 10), (944, 10))"
      ]
     },
     "execution_count": 23,
     "metadata": {},
     "output_type": "execute_result"
    }
   ],
   "source": [
    "# unfold theta back into X and Theta\n",
    "X = np.reshape(theta[0:num_movies*num_features], (num_movies, num_features))\n",
    "Theta = np.reshape(theta[num_movies*num_features:], (num_users, num_features))\n",
    "\n",
    "X.shape, Theta.shape"
   ]
  },
  {
   "cell_type": "markdown",
   "metadata": {},
   "source": [
    "## 5. Make recommendations"
   ]
  },
  {
   "cell_type": "code",
   "execution_count": 24,
   "metadata": {},
   "outputs": [
    {
     "data": {
      "text/plain": [
       "1682"
      ]
     },
     "execution_count": 24,
     "metadata": {},
     "output_type": "execute_result"
    }
   ],
   "source": [
    "# make predictions by multiplying X and Theta\n",
    "p = X.dot(Theta.T)\n",
    "predictions = p[:,0] + Ymean\n",
    "\n",
    "len(predictions)"
   ]
  },
  {
   "cell_type": "code",
   "execution_count": 25,
   "metadata": {},
   "outputs": [
    {
     "data": {
      "text/plain": [
       "1682"
      ]
     },
     "execution_count": 25,
     "metadata": {},
     "output_type": "execute_result"
    }
   ],
   "source": [
    "# get list of movies from text file\n",
    "f = open('movie_ids.txt', 'r', encoding='ISO-8859-1')\n",
    "\n",
    "movieList = []\n",
    "for l in f.readlines():\n",
    "    movie = l.split(' ', 1)[1].split('\\n')[0]\n",
    "    movieList.append(movie)\n",
    "\n",
    "len(movieList)"
   ]
  },
  {
   "cell_type": "code",
   "execution_count": 26,
   "metadata": {},
   "outputs": [
    {
     "data": {
      "text/plain": [
       "array([ 5.00001694,  5.00001142,  5.00000841, ...,  0.99997597,\n",
       "        0.9999731 ,  0.99996951])"
      ]
     },
     "execution_count": 26,
     "metadata": {},
     "output_type": "execute_result"
    }
   ],
   "source": [
    "# get the indices ix that would sort predictions in a descending order\n",
    "# by predictions[ix]\n",
    "ix = np.argsort(predictions)[::-1]\n",
    "\n",
    "predictions[ix]"
   ]
  },
  {
   "cell_type": "code",
   "execution_count": 27,
   "metadata": {},
   "outputs": [
    {
     "name": "stdout",
     "output_type": "stream",
     "text": [
      "Top recommendations for the new user:\n",
      "Predicting rating 5.0 for movie Entertaining Angels: The Dorothy Day Story (1996)\n",
      "Predicting rating 5.0 for movie They Made Me a Criminal (1939)\n",
      "Predicting rating 5.0 for movie Aiqing wansui (1994)\n",
      "Predicting rating 5.0 for movie Great Day in Harlem, A (1994)\n",
      "Predicting rating 5.0 for movie Someone Else's America (1995)\n",
      "Predicting rating 5.0 for movie Marlene Dietrich: Shadow and Light (1996) \n",
      "Predicting rating 5.0 for movie Star Kid (1997)\n",
      "Predicting rating 5.0 for movie Prefontaine (1997)\n",
      "Predicting rating 5.0 for movie Santa with Muscles (1996)\n",
      "Predicting rating 5.0 for movie Saint of Fort Washington, The (1993)\n",
      "\n",
      "Original ratings provided:\n",
      "Rated 4 for Toy Story (1995)\n",
      "Rated 3 for Twelve Monkeys (1995)\n",
      "Rated 5 for Usual Suspects, The (1995)\n",
      "Rated 4 for Outbreak (1995)\n",
      "Rated 5 for Shawshank Redemption, The (1994)\n",
      "Rated 3 for While You Were Sleeping (1995)\n",
      "Rated 5 for Forrest Gump (1994)\n",
      "Rated 2 for Silence of the Lambs, The (1991)\n",
      "Rated 4 for Alien (1979)\n",
      "Rated 5 for Die Hard 2 (1990)\n",
      "Rated 5 for Sphere (1998)\n"
     ]
    }
   ],
   "source": [
    "print(\"Top recommendations for the new user:\")\n",
    "for i in range(10):\n",
    "    j = ix[i]\n",
    "    print(\"Predicting rating {} for movie {}\".format(np.rint(predictions[j]), movieList[j]))\n",
    "    \n",
    "print(\"\\nOriginal ratings provided:\")\n",
    "for i in range(len(ratings)):\n",
    "    if ratings[i][0] > 0:\n",
    "        print('Rated {} for {}'.format(ratings[i][0], movieList[i]))"
   ]
  }
 ],
 "metadata": {
  "kernelspec": {
   "display_name": "Python3 (ml)",
   "language": "python",
   "name": "ml"
  },
  "language_info": {
   "codemirror_mode": {
    "name": "ipython",
    "version": 3
   },
   "file_extension": ".py",
   "mimetype": "text/x-python",
   "name": "python",
   "nbconvert_exporter": "python",
   "pygments_lexer": "ipython3",
   "version": "3.6.2"
  }
 },
 "nbformat": 4,
 "nbformat_minor": 2
}
